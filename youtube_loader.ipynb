{
  "nbformat": 4,
  "nbformat_minor": 0,
  "metadata": {
    "colab": {
      "provenance": [],
      "authorship_tag": "ABX9TyO7PiAaqLpMTm5gdpBYWqmj",
      "include_colab_link": true
    },
    "kernelspec": {
      "name": "python3",
      "display_name": "Python 3"
    },
    "language_info": {
      "name": "python"
    }
  },
  "cells": [
    {
      "cell_type": "markdown",
      "metadata": {
        "id": "view-in-github",
        "colab_type": "text"
      },
      "source": [
        "<a href=\"https://colab.research.google.com/github/vifirsanova/useful-stuff/blob/main/youtube_loader.ipynb\" target=\"_parent\"><img src=\"https://colab.research.google.com/assets/colab-badge.svg\" alt=\"Open In Colab\"/></a>"
      ]
    },
    {
      "cell_type": "code",
      "execution_count": 2,
      "metadata": {
        "colab": {
          "base_uri": "https://localhost:8080/",
          "height": 52
        },
        "id": "BWuSWCU9ZPEs",
        "outputId": "2fb155e5-c2ce-4538-9204-e69e02bcc8ef",
        "cellView": "form"
      },
      "outputs": [
        {
          "output_type": "display_data",
          "data": {
            "text/plain": [
              "<IPython.core.display.Javascript object>"
            ],
            "application/javascript": [
              "\n",
              "    async function download(id, filename, size) {\n",
              "      if (!google.colab.kernel.accessAllowed) {\n",
              "        return;\n",
              "      }\n",
              "      const div = document.createElement('div');\n",
              "      const label = document.createElement('label');\n",
              "      label.textContent = `Downloading \"${filename}\": `;\n",
              "      div.appendChild(label);\n",
              "      const progress = document.createElement('progress');\n",
              "      progress.max = size;\n",
              "      div.appendChild(progress);\n",
              "      document.body.appendChild(div);\n",
              "\n",
              "      const buffers = [];\n",
              "      let downloaded = 0;\n",
              "\n",
              "      const channel = await google.colab.kernel.comms.open(id);\n",
              "      // Send a message to notify the kernel that we're ready.\n",
              "      channel.send({})\n",
              "\n",
              "      for await (const message of channel.messages) {\n",
              "        // Send a message to notify the kernel that we're ready.\n",
              "        channel.send({})\n",
              "        if (message.buffers) {\n",
              "          for (const buffer of message.buffers) {\n",
              "            buffers.push(buffer);\n",
              "            downloaded += buffer.byteLength;\n",
              "            progress.value = downloaded;\n",
              "          }\n",
              "        }\n",
              "      }\n",
              "      const blob = new Blob(buffers, {type: 'application/binary'});\n",
              "      const a = document.createElement('a');\n",
              "      a.href = window.URL.createObjectURL(blob);\n",
              "      a.download = filename;\n",
              "      div.appendChild(a);\n",
              "      a.click();\n",
              "      div.remove();\n",
              "    }\n",
              "  "
            ]
          },
          "metadata": {}
        },
        {
          "output_type": "display_data",
          "data": {
            "text/plain": [
              "<IPython.core.display.Javascript object>"
            ],
            "application/javascript": [
              "download(\"download_bb4323bc-a777-4f89-90e3-8008dea22b6a\", \"video.mp4\", 304146137)"
            ]
          },
          "metadata": {}
        },
        {
          "output_type": "stream",
          "name": "stdout",
          "text": [
            "The download is complete\n"
          ]
        }
      ],
      "source": [
        "#@markdown <br><center><img src=\"https://encrypted-tbn0.gstatic.com/images?q=tbn:ANd9GcQU5fuBkZvUx8_ipv-WrkuH5y3YrIuzRJ6qTg&s\"/></center>\n",
        "#@markdown <center><h1>YouTube Video Downloader</h1></center><br>\n",
        "#@markdown <p>Enter YouTube link below & and get your video file</p>\n",
        "link = \"\" #@param {type:\"string\"}\n",
        "\n",
        "!pip install pytubefix -q\n",
        "\n",
        "from pytubefix import YouTube\n",
        "from google.colab import files\n",
        "\n",
        "yt = YouTube(link)\n",
        "filename = 'video.mp4'\n",
        "yt.streams.first().download(filename=filename)\n",
        "\n",
        "files.download(filename)\n",
        "\n",
        "print('The download is complete')"
      ]
    },
    {
      "cell_type": "code",
      "source": [
        "#@markdown <br><center><img src=\"https://encrypted-tbn0.gstatic.com/images?q=tbn:ANd9GcQWtK4KqVpU2AAXTVuwfiN959-6Uj_VlZdiAw&s\"/></center>\n",
        "#@markdown <center><h1>YouTube Music Downloader</h1></center><br>\n",
        "#@markdown <p>Enter YouTube link below & get your audio file</p>\n",
        "link = \"\" #@param {type:\"string\"}\n",
        "\n",
        "!pip install pytubefix -q\n",
        "\n",
        "from pytubefix import YouTube\n",
        "from google.colab import files\n",
        "\n",
        "yt = YouTube(link)\n",
        "filename = 'audio.mp3'\n",
        "yt.streams.filter(only_audio=True).first().download(filename=filename)\n",
        "\n",
        "files.download(filename)\n",
        "\n",
        "print('The download is complete')"
      ],
      "metadata": {
        "id": "ZMlB-wCOir7y",
        "colab": {
          "base_uri": "https://localhost:8080/",
          "height": 34
        },
        "cellView": "form",
        "outputId": "4f1ca24c-61fa-4b24-d51b-714302a005ec"
      },
      "execution_count": 3,
      "outputs": [
        {
          "output_type": "display_data",
          "data": {
            "text/plain": [
              "<IPython.core.display.Javascript object>"
            ],
            "application/javascript": [
              "\n",
              "    async function download(id, filename, size) {\n",
              "      if (!google.colab.kernel.accessAllowed) {\n",
              "        return;\n",
              "      }\n",
              "      const div = document.createElement('div');\n",
              "      const label = document.createElement('label');\n",
              "      label.textContent = `Downloading \"${filename}\": `;\n",
              "      div.appendChild(label);\n",
              "      const progress = document.createElement('progress');\n",
              "      progress.max = size;\n",
              "      div.appendChild(progress);\n",
              "      document.body.appendChild(div);\n",
              "\n",
              "      const buffers = [];\n",
              "      let downloaded = 0;\n",
              "\n",
              "      const channel = await google.colab.kernel.comms.open(id);\n",
              "      // Send a message to notify the kernel that we're ready.\n",
              "      channel.send({})\n",
              "\n",
              "      for await (const message of channel.messages) {\n",
              "        // Send a message to notify the kernel that we're ready.\n",
              "        channel.send({})\n",
              "        if (message.buffers) {\n",
              "          for (const buffer of message.buffers) {\n",
              "            buffers.push(buffer);\n",
              "            downloaded += buffer.byteLength;\n",
              "            progress.value = downloaded;\n",
              "          }\n",
              "        }\n",
              "      }\n",
              "      const blob = new Blob(buffers, {type: 'application/binary'});\n",
              "      const a = document.createElement('a');\n",
              "      a.href = window.URL.createObjectURL(blob);\n",
              "      a.download = filename;\n",
              "      div.appendChild(a);\n",
              "      a.click();\n",
              "      div.remove();\n",
              "    }\n",
              "  "
            ]
          },
          "metadata": {}
        },
        {
          "output_type": "display_data",
          "data": {
            "text/plain": [
              "<IPython.core.display.Javascript object>"
            ],
            "application/javascript": [
              "download(\"download_f00950b3-34e4-4ad5-b6e1-2ac0aad1dee2\", \"audio.mp3\", 1584380)"
            ]
          },
          "metadata": {}
        },
        {
          "output_type": "stream",
          "name": "stdout",
          "text": [
            "The download is complete\n"
          ]
        }
      ]
    }
  ]
}